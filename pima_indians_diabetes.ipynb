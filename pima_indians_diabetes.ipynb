{
 "cells": [
  {
   "cell_type": "code",
   "execution_count": 1,
   "metadata": {
    "id": "zjbjzAbEhefy"
   },
   "outputs": [],
   "source": [
    "import pandas as pd"
   ]
  },
  {
   "cell_type": "code",
   "execution_count": 2,
   "metadata": {
    "id": "pLTVgl-GhsIs"
   },
   "outputs": [],
   "source": [
    "data = pd.read_csv(\"pima-indians-diabetes.data.csv\")"
   ]
  },
  {
   "cell_type": "code",
   "execution_count": 3,
   "metadata": {
    "colab": {
     "base_uri": "https://localhost:8080/"
    },
    "id": "X10GyecFoysj",
    "outputId": "6864a73b-bfae-4934-b1df-cc1718a32c66"
   },
   "outputs": [
    {
     "data": {
      "text/plain": [
       "Index(['6', '148', '72', '35', '0', '33.6', '0.627', '50', '1'], dtype='object')"
      ]
     },
     "execution_count": 3,
     "metadata": {},
     "output_type": "execute_result"
    }
   ],
   "source": [
    "data.columns"
   ]
  },
  {
   "cell_type": "code",
   "execution_count": 4,
   "metadata": {
    "id": "8vwxwO59o0vt"
   },
   "outputs": [],
   "source": [
    "X = data[['6', '148', '72', '35', '0', '33.6', '0.627', '50']]"
   ]
  },
  {
   "cell_type": "code",
   "execution_count": 5,
   "metadata": {
    "id": "0oJcw5v8pATc"
   },
   "outputs": [],
   "source": [
    "y = data[['1']]"
   ]
  },
  {
   "cell_type": "code",
   "execution_count": 6,
   "metadata": {},
   "outputs": [
    {
     "name": "stdout",
     "output_type": "stream",
     "text": [
      "     1\n",
      "0    0\n",
      "1    1\n",
      "2    0\n",
      "3    1\n",
      "4    0\n",
      "..  ..\n",
      "762  0\n",
      "763  0\n",
      "764  0\n",
      "765  1\n",
      "766  0\n",
      "\n",
      "[767 rows x 1 columns]\n"
     ]
    }
   ],
   "source": [
    "print(y)"
   ]
  },
  {
   "cell_type": "code",
   "execution_count": 7,
   "metadata": {
    "id": "p8BZuqa4ok2U"
   },
   "outputs": [],
   "source": [
    "from sklearn.model_selection import train_test_split"
   ]
  },
  {
   "cell_type": "code",
   "execution_count": 8,
   "metadata": {
    "id": "n27IDE2gosT7"
   },
   "outputs": [],
   "source": [
    "X_train, X_test, y_train, y_test = train_test_split(X, y, test_size=0.30, random_state=40)"
   ]
  },
  {
   "cell_type": "code",
   "execution_count": 9,
   "metadata": {
    "id": "DO4v1AqTpOW2"
   },
   "outputs": [],
   "source": [
    "from keras.models import Sequential\n",
    "model = Sequential()"
   ]
  },
  {
   "cell_type": "code",
   "execution_count": 10,
   "metadata": {
    "id": "tOqhEKpOpUol"
   },
   "outputs": [],
   "source": [
    "from keras.layers import Dense"
   ]
  },
  {
   "cell_type": "code",
   "execution_count": 11,
   "metadata": {
    "id": "rwY5TU8LpYsA"
   },
   "outputs": [],
   "source": [
    "from keras.optimizers import Adam"
   ]
  },
  {
   "cell_type": "code",
   "execution_count": 12,
   "metadata": {
    "id": "1eJFP30OphFD"
   },
   "outputs": [],
   "source": [
    "model.add(Dense(units = 8, activation='relu', input_dim=8 ,))"
   ]
  },
  {
   "cell_type": "code",
   "execution_count": 13,
   "metadata": {
    "id": "_lglCepbpwiK"
   },
   "outputs": [],
   "source": [
    "model.add(Dense(units = 6, activation='relu' ,))"
   ]
  },
  {
   "cell_type": "code",
   "execution_count": 17,
   "metadata": {},
   "outputs": [
    {
     "name": "stdout",
     "output_type": "stream",
     "text": [
      "Model: \"sequential\"\n",
      "_________________________________________________________________\n",
      "Layer (type)                 Output Shape              Param #   \n",
      "=================================================================\n",
      "dense (Dense)                (None, 8)                 72        \n",
      "_________________________________________________________________\n",
      "dense_1 (Dense)              (None, 6)                 54        \n",
      "_________________________________________________________________\n",
      "dense_2 (Dense)              (None, 4)                 28        \n",
      "_________________________________________________________________\n",
      "dense_3 (Dense)              (None, 1)                 5         \n",
      "=================================================================\n",
      "Total params: 159\n",
      "Trainable params: 159\n",
      "Non-trainable params: 0\n",
      "_________________________________________________________________\n"
     ]
    }
   ],
   "source": [
    "model.summary()"
   ]
  },
  {
   "cell_type": "code",
   "execution_count": 15,
   "metadata": {
    "id": "XYpLav3Rp4nk"
   },
   "outputs": [],
   "source": [
    "model.add(Dense(units = 4, activation='relu'))"
   ]
  },
  {
   "cell_type": "code",
   "execution_count": 16,
   "metadata": {
    "id": "0h1SWyw2p6GD"
   },
   "outputs": [],
   "source": [
    "model.add(Dense(units = 1, activation='sigmoid'))"
   ]
  },
  {
   "cell_type": "code",
   "execution_count": 23,
   "metadata": {
    "id": "Yverncmmp9Zd"
   },
   "outputs": [],
   "source": [
    "model.compile(loss='binary_crossentropy', optimizer=Adam(learning_rate=0.0000001), metrics='accuracy')"
   ]
  },
  {
   "cell_type": "code",
   "execution_count": 25,
   "metadata": {
    "colab": {
     "base_uri": "https://localhost:8080/"
    },
    "id": "uCZQ1XEjqM4c",
    "outputId": "5901be51-bc8f-435e-abbc-f5cdaa2aa4bc"
   },
   "outputs": [
    {
     "name": "stdout",
     "output_type": "stream",
     "text": [
      "Epoch 1/10\n",
      "17/17 [==============================] - 0s 2ms/step - loss: 0.6908 - accuracy: 0.6623\n",
      "Epoch 2/10\n",
      "17/17 [==============================] - 0s 1ms/step - loss: 0.6908 - accuracy: 0.6623\n",
      "Epoch 3/10\n",
      "17/17 [==============================] - 0s 2ms/step - loss: 0.6908 - accuracy: 0.6623\n",
      "Epoch 4/10\n",
      "17/17 [==============================] - 0s 2ms/step - loss: 0.6908 - accuracy: 0.6623\n",
      "Epoch 5/10\n",
      "17/17 [==============================] - 0s 2ms/step - loss: 0.6908 - accuracy: 0.6623\n",
      "Epoch 6/10\n",
      "17/17 [==============================] - 0s 2ms/step - loss: 0.6908 - accuracy: 0.6623\n",
      "Epoch 7/10\n",
      "17/17 [==============================] - 0s 2ms/step - loss: 0.6908 - accuracy: 0.6623\n",
      "Epoch 8/10\n",
      "17/17 [==============================] - 0s 2ms/step - loss: 0.6908 - accuracy: 0.6623\n",
      "Epoch 9/10\n",
      "17/17 [==============================] - 0s 2ms/step - loss: 0.6908 - accuracy: 0.6623\n",
      "Epoch 10/10\n",
      "17/17 [==============================] - 0s 2ms/step - loss: 0.6908 - accuracy: 0.6623\n"
     ]
    },
    {
     "data": {
      "text/plain": [
       "<tensorflow.python.keras.callbacks.History at 0x2a473765f08>"
      ]
     },
     "execution_count": 25,
     "metadata": {},
     "output_type": "execute_result"
    }
   ],
   "source": [
    "model.fit(X_train, y_train, epochs=10)"
   ]
  },
  {
   "cell_type": "code",
   "execution_count": 26,
   "metadata": {
    "id": "iIOJQ_KPqRvr"
   },
   "outputs": [],
   "source": [
    "loss = model.history.history"
   ]
  },
  {
   "cell_type": "code",
   "execution_count": 28,
   "metadata": {
    "colab": {
     "base_uri": "https://localhost:8080/",
     "height": 634
    },
    "id": "W9OoY_csqY88",
    "outputId": "a518e3ae-89c7-42af-9e7c-b4e19e7189b1"
   },
   "outputs": [
    {
     "data": {
      "text/html": [
       "<div>\n",
       "<style scoped>\n",
       "    .dataframe tbody tr th:only-of-type {\n",
       "        vertical-align: middle;\n",
       "    }\n",
       "\n",
       "    .dataframe tbody tr th {\n",
       "        vertical-align: top;\n",
       "    }\n",
       "\n",
       "    .dataframe thead th {\n",
       "        text-align: right;\n",
       "    }\n",
       "</style>\n",
       "<table border=\"1\" class=\"dataframe\">\n",
       "  <thead>\n",
       "    <tr style=\"text-align: right;\">\n",
       "      <th></th>\n",
       "      <th>loss</th>\n",
       "      <th>accuracy</th>\n",
       "    </tr>\n",
       "  </thead>\n",
       "  <tbody>\n",
       "    <tr>\n",
       "      <th>0</th>\n",
       "      <td>0.690844</td>\n",
       "      <td>0.662313</td>\n",
       "    </tr>\n",
       "    <tr>\n",
       "      <th>1</th>\n",
       "      <td>0.690843</td>\n",
       "      <td>0.662313</td>\n",
       "    </tr>\n",
       "    <tr>\n",
       "      <th>2</th>\n",
       "      <td>0.690843</td>\n",
       "      <td>0.662313</td>\n",
       "    </tr>\n",
       "    <tr>\n",
       "      <th>3</th>\n",
       "      <td>0.690843</td>\n",
       "      <td>0.662313</td>\n",
       "    </tr>\n",
       "    <tr>\n",
       "      <th>4</th>\n",
       "      <td>0.690842</td>\n",
       "      <td>0.662313</td>\n",
       "    </tr>\n",
       "    <tr>\n",
       "      <th>5</th>\n",
       "      <td>0.690842</td>\n",
       "      <td>0.662313</td>\n",
       "    </tr>\n",
       "    <tr>\n",
       "      <th>6</th>\n",
       "      <td>0.690841</td>\n",
       "      <td>0.662313</td>\n",
       "    </tr>\n",
       "    <tr>\n",
       "      <th>7</th>\n",
       "      <td>0.690841</td>\n",
       "      <td>0.662313</td>\n",
       "    </tr>\n",
       "    <tr>\n",
       "      <th>8</th>\n",
       "      <td>0.690841</td>\n",
       "      <td>0.662313</td>\n",
       "    </tr>\n",
       "    <tr>\n",
       "      <th>9</th>\n",
       "      <td>0.690841</td>\n",
       "      <td>0.662313</td>\n",
       "    </tr>\n",
       "  </tbody>\n",
       "</table>\n",
       "</div>"
      ],
      "text/plain": [
       "       loss  accuracy\n",
       "0  0.690844  0.662313\n",
       "1  0.690843  0.662313\n",
       "2  0.690843  0.662313\n",
       "3  0.690843  0.662313\n",
       "4  0.690842  0.662313\n",
       "5  0.690842  0.662313\n",
       "6  0.690841  0.662313\n",
       "7  0.690841  0.662313\n",
       "8  0.690841  0.662313\n",
       "9  0.690841  0.662313"
      ]
     },
     "execution_count": 28,
     "metadata": {},
     "output_type": "execute_result"
    }
   ],
   "source": [
    "pd.DataFrame(loss)"
   ]
  },
  {
   "cell_type": "code",
   "execution_count": null,
   "metadata": {
    "id": "tX2ULa0iqzJy"
   },
   "outputs": [],
   "source": [
    "model.save(\"mymodel-diabetes-.h5\")"
   ]
  },
  {
   "cell_type": "code",
   "execution_count": null,
   "metadata": {
    "id": "ZYMZgyOuq8T9"
   },
   "outputs": [],
   "source": []
  }
 ],
 "metadata": {
  "colab": {
   "name": "pima_indians_diabetes.ipynb",
   "provenance": []
  },
  "kernelspec": {
   "display_name": "Python 3",
   "language": "python",
   "name": "python3"
  },
  "language_info": {
   "codemirror_mode": {
    "name": "ipython",
    "version": 3
   },
   "file_extension": ".py",
   "mimetype": "text/x-python",
   "name": "python",
   "nbconvert_exporter": "python",
   "pygments_lexer": "ipython3",
   "version": "3.7.6"
  }
 },
 "nbformat": 4,
 "nbformat_minor": 1
}
